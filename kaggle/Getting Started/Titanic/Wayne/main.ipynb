{
 "cells": [
  {
   "cell_type": "code",
   "execution_count": null,
   "metadata": {
    "ExecuteTime": {
     "end_time": "2020-10-25T06:35:20.565665Z",
     "start_time": "2020-10-25T06:35:20.556136Z"
    }
   },
   "outputs": [],
   "source": [
    "import os\n",
    "import time\n",
    "import handcalcs.render\n",
    "import numpy as np\n",
    "import pandas as pd\n",
    "import pandas_profiling\n",
    "import matplotlib.pyplot as plt\n",
    "import seaborn as sns\n",
    "import plotly.graph_objects as go\n",
    "import plotly.express as px\n",
    "from IPython.display import display\n",
    "from autoviz.AutoViz_Class import AutoViz_Class\n",
    "from sklearn.preprocessing import FunctionTransformer,  OneHotEncoder, MinMaxScaler\n",
    "from sklearn.impute import SimpleImputer\n",
    "from sklearn.decomposition import PCA\n",
    "from sklearn.pipeline import make_pipeline\n",
    "from sklearn.model_selection import train_test_split, GridSearchCV, KFold, cross_val_score\n",
    "from xgboost import XGBClassifier\n",
    "from sklearn.linear_model import LogisticRegression\n",
    "from sklearn.svm import SVC, LinearSVC\n",
    "from sklearn.ensemble import RandomForestClassifier\n",
    "from sklearn.neighbors import KNeighborsClassifier\n",
    "from sklearn.naive_bayes import GaussianNB\n",
    "from sklearn.linear_model import Perceptron\n",
    "from sklearn.linear_model import SGDClassifier\n",
    "from sklearn.tree import DecisionTreeClassifier\n",
    "from pycaret.classification import *\n",
    "from pycaret.datasets import get_data\n",
    "%matplotlib inline"
   ]
  },
  {
   "cell_type": "code",
   "execution_count": null,
   "metadata": {
    "ExecuteTime": {
     "end_time": "2020-10-25T06:35:20.745335Z",
     "start_time": "2020-10-25T06:35:20.740291Z"
    }
   },
   "outputs": [],
   "source": [
    "def load_data(name='test'):\n",
    "    path = os.path.join('../data', name + '.csv')\n",
    "    data = pd.read_csv(path)\n",
    "    return data"
   ]
  },
  {
   "cell_type": "code",
   "execution_count": null,
   "metadata": {
    "ExecuteTime": {
     "end_time": "2020-10-25T06:35:20.909218Z",
     "start_time": "2020-10-25T06:35:20.886622Z"
    }
   },
   "outputs": [],
   "source": [
    "train_data = load_data('train')\n",
    "test_data = load_data('test')\n",
    "df_all = train_data.append(test_data, ignore_index=True)"
   ]
  },
  {
   "cell_type": "code",
   "execution_count": null,
   "metadata": {
    "ExecuteTime": {
     "end_time": "2020-10-25T06:35:21.099979Z",
     "start_time": "2020-10-25T06:35:21.061454Z"
    }
   },
   "outputs": [],
   "source": [
    "display(df_all.head(40))"
   ]
  },
  {
   "cell_type": "code",
   "execution_count": null,
   "metadata": {
    "ExecuteTime": {
     "end_time": "2020-10-25T06:35:21.257056Z",
     "start_time": "2020-10-25T06:35:21.213047Z"
    }
   },
   "outputs": [],
   "source": [
    "display(df_all.describe())"
   ]
  },
  {
   "cell_type": "code",
   "execution_count": null,
   "metadata": {
    "ExecuteTime": {
     "end_time": "2020-10-25T06:35:21.424167Z",
     "start_time": "2020-10-25T06:35:21.384280Z"
    }
   },
   "outputs": [],
   "source": [
    "display(df_all.info())"
   ]
  },
  {
   "cell_type": "code",
   "execution_count": null,
   "metadata": {
    "ExecuteTime": {
     "end_time": "2020-10-25T06:35:21.626983Z",
     "start_time": "2020-10-25T06:35:21.578011Z"
    }
   },
   "outputs": [],
   "source": [
    "df_all.isnull().info()"
   ]
  },
  {
   "cell_type": "code",
   "execution_count": null,
   "metadata": {
    "ExecuteTime": {
     "end_time": "2020-10-25T06:35:22.625189Z",
     "start_time": "2020-10-25T06:35:22.607762Z"
    },
    "scrolled": true
   },
   "outputs": [],
   "source": [
    "print(df_all.columns)"
   ]
  },
  {
   "cell_type": "code",
   "execution_count": null,
   "metadata": {
    "ExecuteTime": {
     "end_time": "2020-10-25T06:35:23.975615Z",
     "start_time": "2020-10-25T06:35:23.178023Z"
    }
   },
   "outputs": [],
   "source": [
    "sns.distplot(df_all['Age'], color='black')\n",
    "plt.show()\n",
    "age_cat = pd.cut(df_all['Age'], bins=[0, 10, 20, 30, 40, 50, 60, 70, 80], labels=[\n",
    "                 '0-10', '10-20', '20-30', '30-40', '40-50', '50-60', '60-70', '70-80'])\n",
    "fig, axes = plt.subplots(1, 2, figsize=(10, 6))\n",
    "sns.countplot(age_cat[df_all['Sex'] == 'female'], color='black', ax=axes[0])\n",
    "sns.countplot(age_cat[(df_all['Survived'] == 1) & (\n",
    "    df_all['Sex'] == 'female')], color='pink', ax=axes[0]).set_title('Female')\n",
    "sns.countplot(age_cat[df_all['Sex'] == 'male'], color='black', ax=axes[1])\n",
    "sns.countplot(age_cat[(df_all['Survived'] == 1) & (\n",
    "    df_all['Sex'] == 'male')], color='blue', ax=axes[1]).set_title('Male')\n",
    "plt.show()"
   ]
  },
  {
   "cell_type": "code",
   "execution_count": null,
   "metadata": {
    "ExecuteTime": {
     "end_time": "2020-10-25T06:35:24.425541Z",
     "start_time": "2020-10-25T06:35:24.213007Z"
    }
   },
   "outputs": [],
   "source": [
    "sns.countplot(df_all['Pclass'])\n",
    "plt.show()"
   ]
  },
  {
   "cell_type": "code",
   "execution_count": null,
   "metadata": {
    "ExecuteTime": {
     "end_time": "2020-10-25T06:35:25.223100Z",
     "start_time": "2020-10-25T06:35:24.955204Z"
    }
   },
   "outputs": [],
   "source": [
    "grouped = df_all.groupby(['Sex', 'Pclass'])\n",
    "# display(grouped['Age'].median())\n",
    "ax = grouped['Age'].median().plot(kind='bar', color='black')\n",
    "ax.set(ylabel='Median Age')\n",
    "plt.show()"
   ]
  },
  {
   "cell_type": "code",
   "execution_count": null,
   "metadata": {
    "ExecuteTime": {
     "end_time": "2020-10-25T06:35:25.904113Z",
     "start_time": "2020-10-25T06:35:25.838848Z"
    }
   },
   "outputs": [],
   "source": [
    "df_all.drop('PassengerId', axis=1, inplace=True)\n",
    "df_all.drop('Ticket', axis=1, inplace=True)\n",
    "df_all.drop('Name', axis=1, inplace=True)\n",
    "df_all.loc[df_all['Cabin'].isnull(), 'Cabin'] = 0\n",
    "df_all.loc[df_all['Cabin'] != 0, 'Cabin'] = 1\n",
    "df_all['Embarked'].fillna(\n",
    "    df_all['Embarked'].value_counts().index[0], inplace=True)\n",
    "df_all['Fare'].fillna(df_all['Fare'].median(), inplace=True)\n",
    "df_all['Age'] = grouped['Age'].apply(lambda x: x.fillna(x.median()))\n",
    "df_all['Sex'] = df_all['Sex'].map({'male': 0, 'female': 1})\n",
    "df_all = pd.get_dummies(df_all, columns=['Embarked'])"
   ]
  },
  {
   "cell_type": "code",
   "execution_count": null,
   "metadata": {
    "ExecuteTime": {
     "end_time": "2020-10-25T06:35:50.072099Z",
     "start_time": "2020-10-25T06:35:27.255563Z"
    },
    "scrolled": false
   },
   "outputs": [],
   "source": [
    "display(df_all.head(4))\n",
    "report = pandas_profiling.ProfileReport(df_all)\n",
    "display(report)"
   ]
  },
  {
   "cell_type": "code",
   "execution_count": null,
   "metadata": {
    "ExecuteTime": {
     "end_time": "2020-10-10T18:32:04.206004Z",
     "start_time": "2020-10-10T18:31:55.189353Z"
    }
   },
   "outputs": [],
   "source": [
    "AV = AutoViz_Class()\n",
    "report_av = AV.AutoViz('../data/train.csv')"
   ]
  },
  {
   "cell_type": "code",
   "execution_count": null,
   "metadata": {
    "ExecuteTime": {
     "end_time": "2020-10-25T06:36:31.298800Z",
     "start_time": "2020-10-25T06:36:31.286049Z"
    }
   },
   "outputs": [],
   "source": [
    "scaler = MinMaxScaler()\n",
    "X = df_all.drop('Survived', axis=1).iloc[:891].values\n",
    "y = (df_all['Survived'].iloc[:891].values).astype(int)\n",
    "X = scaler.fit_transform(X)\n",
    "X_test = df_all.drop('Survived', axis=1).iloc[891:].values\n",
    "X_test = scaler.transform(X_test)\n",
    "y_test = (df_all['Survived'].iloc[891:].values).astype(int)"
   ]
  },
  {
   "cell_type": "code",
   "execution_count": null,
   "metadata": {
    "ExecuteTime": {
     "end_time": "2020-10-25T06:36:39.927779Z",
     "start_time": "2020-10-25T06:36:39.795369Z"
    }
   },
   "outputs": [],
   "source": [
    "lr = LogisticRegression()\n",
    "lr.fit(X, y)\n",
    "Y_pred = lr.predict(X_test)\n",
    "lr.score(X, y)"
   ]
  },
  {
   "cell_type": "code",
   "execution_count": null,
   "metadata": {
    "ExecuteTime": {
     "end_time": "2020-10-25T06:36:43.420766Z",
     "start_time": "2020-10-25T06:36:43.364994Z"
    }
   },
   "outputs": [],
   "source": [
    "svc = SVC()\n",
    "svc.fit(X, y)\n",
    "Y_pred = svc.predict(X_test)\n",
    "svc.score(X, y)"
   ]
  },
  {
   "cell_type": "code",
   "execution_count": null,
   "metadata": {
    "ExecuteTime": {
     "end_time": "2020-10-25T06:36:44.335516Z",
     "start_time": "2020-10-25T06:36:44.247499Z"
    }
   },
   "outputs": [],
   "source": [
    "knn = KNeighborsClassifier(n_neighbors = 3)\n",
    "knn.fit(X, y)\n",
    "Y_pred = knn.predict(X_test)\n",
    "knn.score(X, y)"
   ]
  },
  {
   "cell_type": "code",
   "execution_count": null,
   "metadata": {
    "ExecuteTime": {
     "end_time": "2020-10-25T06:36:45.041000Z",
     "start_time": "2020-10-25T06:36:44.995557Z"
    }
   },
   "outputs": [],
   "source": [
    "gaussian = GaussianNB()\n",
    "gaussian.fit(X, y)\n",
    "Y_pred = gaussian.predict(X_test)\n",
    "gaussian.score(X, y)"
   ]
  },
  {
   "cell_type": "code",
   "execution_count": null,
   "metadata": {
    "ExecuteTime": {
     "end_time": "2020-10-25T06:36:45.932035Z",
     "start_time": "2020-10-25T06:36:45.918161Z"
    }
   },
   "outputs": [],
   "source": [
    "perceptron = Perceptron()\n",
    "perceptron.fit(X, y)\n",
    "Y_pred = perceptron.predict(X_test)\n",
    "perceptron.score(X, y)"
   ]
  },
  {
   "cell_type": "code",
   "execution_count": null,
   "metadata": {
    "ExecuteTime": {
     "end_time": "2020-10-25T06:36:46.680280Z",
     "start_time": "2020-10-25T06:36:46.656626Z"
    }
   },
   "outputs": [],
   "source": [
    "linear_svc = LinearSVC()\n",
    "linear_svc.fit(X, y)\n",
    "Y_pred = linear_svc.predict(X_test)\n",
    "linear_svc.score(X, y)"
   ]
  },
  {
   "cell_type": "code",
   "execution_count": null,
   "metadata": {
    "ExecuteTime": {
     "end_time": "2020-10-25T06:36:47.457613Z",
     "start_time": "2020-10-25T06:36:47.441530Z"
    }
   },
   "outputs": [],
   "source": [
    "sgd = SGDClassifier()\n",
    "sgd.fit(X, y)\n",
    "Y_pred = sgd.predict(X_test)\n",
    "sgd.score(X, y)"
   ]
  },
  {
   "cell_type": "code",
   "execution_count": null,
   "metadata": {
    "ExecuteTime": {
     "end_time": "2020-10-25T06:36:48.044772Z",
     "start_time": "2020-10-25T06:36:48.033701Z"
    }
   },
   "outputs": [],
   "source": [
    "decision_tree = DecisionTreeClassifier()\n",
    "decision_tree.fit(X, y)\n",
    "Y_pred = decision_tree.predict(X_test)\n",
    "decision_tree.score(X, y)"
   ]
  },
  {
   "cell_type": "code",
   "execution_count": null,
   "metadata": {
    "ExecuteTime": {
     "end_time": "2020-10-25T06:36:49.185914Z",
     "start_time": "2020-10-25T06:36:48.753095Z"
    }
   },
   "outputs": [],
   "source": [
    "random_forest = RandomForestClassifier(n_estimators=100)\n",
    "random_forest.fit(X, y)\n",
    "Y_pred = random_forest.predict(X_test)\n",
    "random_forest.score(X, y)"
   ]
  },
  {
   "cell_type": "code",
   "execution_count": null,
   "metadata": {},
   "outputs": [],
   "source": []
  },
  {
   "cell_type": "markdown",
   "metadata": {},
   "source": [
    "## Logistic Regression\n",
    "\\begin{equation}\n",
    "P\\left[Y=y\\ \\big|\\ x;\\omega\\right]\\approx\\sigma(\\omega^Tx)\n",
    "\\end{equation}\n",
    "where\n",
    "\\begin{equation}\n",
    "\\sigma(t)=\\frac{1}{1+\\exp^{-t}}\n",
    "\\end{equation}\n",
    "$\\omega$ can be obtained using maximum likelihood estimation, i.e. minimizing the negative log-likelihood:\n",
    "\\begin{equation}\n",
    "J(\\omega) = -\\frac{1}{m}\\sum\\limits_{i=1}^{n}y_i\\log(\\sigma(\\omega^Tx_i))+(1-y_i)\\log(1-\\sigma(\\omega^Tx_i))\n",
    "\\end{equation}"
   ]
  },
  {
   "cell_type": "code",
   "execution_count": null,
   "metadata": {
    "ExecuteTime": {
     "end_time": "2020-10-10T18:32:04.290118Z",
     "start_time": "2020-10-10T18:32:04.275996Z"
    },
    "code_folding": [
     8
    ]
   },
   "outputs": [],
   "source": [
    "def logistic_regression(X, y, alpha=1e-3, num_iter=30, random_state=1):\n",
    "    np.random.seed(random_state)\n",
    "    d, m = X.shape\n",
    "    K = np.max(y)+1  # 0~c-1 => 1~c\n",
    "    w = np.random.randn(d, K)\n",
    "\n",
    "    def softmax(x):\n",
    "        s = np.exp(x)/np.sum(np.exp(x))\n",
    "        return s\n",
    "\n",
    "    def one_hot(y, k):\n",
    "        \"\"\"\n",
    "        y=[0,1,2,1]\n",
    "        k=3\n",
    "        return: \n",
    "        [[1. 0. 0.]\n",
    "         [0. 1. 0.]\n",
    "         [0. 0. 1.]\n",
    "         [0. 1. 0.]]\n",
    "        \"\"\"\n",
    "        y_one_hot = np.eye(k)[y]\n",
    "        return y_one_hot\n",
    "\n",
    "    def h(x, w):\n",
    "        p = softmax(w.T@x)\n",
    "        return p\n",
    "\n",
    "    def cost(pred, y):\n",
    "        c = np.sum(-one_hot(y, K).T*np.log(pred))\n",
    "        return c\n",
    "\n",
    "    def grad(w, x, y):\n",
    "        Y = one_hot(y, K).T\n",
    "        b = h(x, w)-Y\n",
    "        b = np.reshape(b, (-1, 1))\n",
    "        x = x.reshape((-1, 1))\n",
    "        g = x@b.T\n",
    "        return g\n",
    "    for i in range(num_iter):\n",
    "        for j in np.random.permutation(m):\n",
    "            gradient = grad(w, X[:, j], y[j])\n",
    "            w -= alpha*gradient\n",
    "    return w"
   ]
  },
  {
   "cell_type": "markdown",
   "metadata": {},
   "source": [
    "## Least Square Ridge Classifier\n",
    "$X\\in R^{m\\times d},Y\\in R^{m\\times K}$\n",
    "#### closed form solution\n",
    "\\begin{equation}\n",
    "\\begin{aligned}\n",
    "J(\\omega) &= \\|X\\omega-Y\\|_2^2+\\lambda\\|\\omega\\|_F^2 \\\\\n",
    "&=(X\\omega-Y)^T\\cdot(X\\omega-Y)+\\lambda\\omega^T\\omega \\\\\n",
    "&=(\\omega^TX^T-Y^T)\\cdot(X\\omega-Y)+\\lambda\\omega^T\\omega \\\\\n",
    "&=\\omega^TX^TX\\omega-\\omega^TX^TY-Y^TX\\omega+Y^TY+\\lambda\\omega^T\\omega\n",
    "\\end{aligned}\n",
    "\\end{equation}\n",
    "To minimize: $\\frac{\\partial J}{\\partial\\omega}=0$\n",
    "\\begin{equation}\n",
    "\\begin{aligned}\n",
    "&\\frac{\\partial J}{\\partial\\omega}=2X^TX\\omega-2X^TY+2\\lambda\\omega=0 \\\\\n",
    "\\implies & 2(X^TX+\\lambda I)\\omega=2X^TY \\\\\n",
    "\\implies & \\omega=(X^TX+\\lambda I)^{-1}X^TY\n",
    "\\end{aligned}\n",
    "\\end{equation}"
   ]
  },
  {
   "cell_type": "code",
   "execution_count": null,
   "metadata": {
    "ExecuteTime": {
     "end_time": "2020-10-10T18:32:04.309081Z",
     "start_time": "2020-10-10T18:32:04.294612Z"
    }
   },
   "outputs": [],
   "source": [
    "def ridge_classifier(X, y, lambd=1e-4):\n",
    "    d, m = X.shape\n",
    "    k = np.max(y)+1\n",
    "    w = np.linalg.inv(X@X.T+lambd*np.eye(d))@X@np.eye(k)[y]\n",
    "    return w"
   ]
  },
  {
   "cell_type": "code",
   "execution_count": null,
   "metadata": {
    "ExecuteTime": {
     "end_time": "2020-10-10T18:32:04.338080Z",
     "start_time": "2020-10-10T18:32:04.324993Z"
    }
   },
   "outputs": [],
   "source": [
    "def error(X, y, w):\n",
    "    m = np.shape(y)\n",
    "    y_pred = w.T @ X\n",
    "    y_pred = np.argmax(y_pred, axis=0)\n",
    "    err = np.sum(y_pred == y) / m\n",
    "    return err"
   ]
  },
  {
   "cell_type": "code",
   "execution_count": null,
   "metadata": {
    "ExecuteTime": {
     "end_time": "2020-10-10T18:32:46.891791Z",
     "start_time": "2020-10-10T18:32:04.342149Z"
    },
    "scrolled": false
   },
   "outputs": [],
   "source": [
    "scores_lr = []\n",
    "scores_ls = []\n",
    "fold = 1\n",
    "\n",
    "for tr, val in KFold(n_splits=5, random_state=42).split(X, y):\n",
    "    X_train = X[tr]\n",
    "    X_val = X[val]\n",
    "    y_train = y[tr]\n",
    "    y_val = y[val]\n",
    "    best_W_LR = logistic_regression(\n",
    "        X_train.T, y_train, alpha=1e-3, num_iter=300, random_state=42)\n",
    "    val_acc_LR = error(X_val.T, y_val, best_W_LR)\n",
    "    scores_lr.append(val_acc_LR)\n",
    "    print(f'Validation acc LR: Fold {fold}:', val_acc_LR)\n",
    "    W_LS = ridge_classifier(X_train.T, y_train, lambd=1e-4)\n",
    "    val_acc_LS = error(X_val.T, y_val, W_LS)\n",
    "    scores_ls.append(val_acc_LS)\n",
    "    print(f'Validation acc LS: Fold {fold}:', val_acc_LS)\n",
    "    fold += 1\n",
    "\n",
    "print('-------------------------------')\n",
    "print(\"Accuracy Logistic Regression: %0.2f (+/- %0.2f)\" %\n",
    "      (np.mean(scores_lr), np.std(scores_lr) * 2))\n",
    "print(\"Accuracy Least Squares Ridge: %0.2f (+/- %0.2f)\" %\n",
    "      (np.mean(scores_ls), np.std(scores_ls) * 2))"
   ]
  },
  {
   "cell_type": "code",
   "execution_count": null,
   "metadata": {
    "ExecuteTime": {
     "end_time": "2020-10-10T18:32:46.901956Z",
     "start_time": "2020-10-10T18:32:46.896035Z"
    }
   },
   "outputs": [],
   "source": [
    "def test_clfs(clfs):\n",
    "    for clf in clfs:\n",
    "        start = time()\n",
    "        clf = clf(random_state=0)\n",
    "        scores = cross_val_score(clf, X, y, cv=5)\n",
    "        print(str(clf), 'results:')\n",
    "        print('Accuracy')"
   ]
  },
  {
   "cell_type": "code",
   "execution_count": null,
   "metadata": {
    "ExecuteTime": {
     "end_time": "2020-10-25T06:38:29.797867Z",
     "start_time": "2020-10-25T06:37:24.523423Z"
    }
   },
   "outputs": [],
   "source": [
    "data = train_data.drop('Name',axis=1).drop('Ticket',axis=1).drop('PassengerId',axis=1)\n",
    "clf = setup(data=data,target='Survived')\n",
    "top3 = compare_models(n_select=3,exclude=['catboost'])"
   ]
  },
  {
   "cell_type": "code",
   "execution_count": null,
   "metadata": {
    "ExecuteTime": {
     "end_time": "2020-10-25T06:40:24.299120Z",
     "start_time": "2020-10-25T06:39:04.978755Z"
    },
    "scrolled": false
   },
   "outputs": [],
   "source": [
    "tuned_top3 = [tune_model(i) for i in top3]"
   ]
  },
  {
   "cell_type": "code",
   "execution_count": null,
   "metadata": {
    "ExecuteTime": {
     "end_time": "2020-10-25T06:45:14.466279Z",
     "start_time": "2020-10-25T06:40:24.304235Z"
    },
    "scrolled": false
   },
   "outputs": [],
   "source": [
    "bagged_tuned_top3 = [ensemble_model(i, method = 'Bagging') for i in tuned_top3]"
   ]
  },
  {
   "cell_type": "code",
   "execution_count": null,
   "metadata": {
    "ExecuteTime": {
     "end_time": "2020-10-25T06:45:29.027622Z",
     "start_time": "2020-10-25T06:45:14.472049Z"
    },
    "scrolled": true
   },
   "outputs": [],
   "source": [
    "blender = blend_models(estimator_list = top3)"
   ]
  },
  {
   "cell_type": "code",
   "execution_count": null,
   "metadata": {
    "ExecuteTime": {
     "end_time": "2020-10-25T06:46:18.503431Z",
     "start_time": "2020-10-25T06:45:29.036896Z"
    },
    "scrolled": true
   },
   "outputs": [],
   "source": [
    "stacker = stack_models(estimator_list = top3[1:], meta_model = top3[0])"
   ]
  },
  {
   "cell_type": "code",
   "execution_count": null,
   "metadata": {
    "ExecuteTime": {
     "end_time": "2020-10-25T06:46:21.630457Z",
     "start_time": "2020-10-25T06:46:18.506716Z"
    }
   },
   "outputs": [],
   "source": [
    "best_model = automl(optimize = 'Accuracy')"
   ]
  },
  {
   "cell_type": "code",
   "execution_count": null,
   "metadata": {
    "ExecuteTime": {
     "end_time": "2020-10-25T06:46:21.770831Z",
     "start_time": "2020-10-25T06:46:21.635459Z"
    }
   },
   "outputs": [],
   "source": [
    "save_model(best_model, 'model')"
   ]
  },
  {
   "cell_type": "code",
   "execution_count": null,
   "metadata": {
    "ExecuteTime": {
     "end_time": "2020-10-25T06:46:25.319438Z",
     "start_time": "2020-10-25T06:46:21.784992Z"
    },
    "scrolled": true
   },
   "outputs": [],
   "source": [
    "plot_model(best_model,plot='boundary')"
   ]
  },
  {
   "cell_type": "code",
   "execution_count": null,
   "metadata": {
    "ExecuteTime": {
     "end_time": "2020-10-25T06:46:25.426152Z",
     "start_time": "2020-10-25T06:46:25.324713Z"
    },
    "scrolled": true
   },
   "outputs": [],
   "source": [
    "evaluate_model(best_model)"
   ]
  },
  {
   "cell_type": "code",
   "execution_count": null,
   "metadata": {
    "ExecuteTime": {
     "end_time": "2020-10-25T06:46:25.635326Z",
     "start_time": "2020-10-25T06:46:25.429926Z"
    }
   },
   "outputs": [],
   "source": [
    "predict_model(best_model)"
   ]
  },
  {
   "cell_type": "code",
   "execution_count": null,
   "metadata": {
    "ExecuteTime": {
     "end_time": "2020-10-25T06:46:28.473294Z",
     "start_time": "2020-10-25T06:46:25.640680Z"
    }
   },
   "outputs": [],
   "source": [
    "model = finalize_model(best_model)"
   ]
  },
  {
   "cell_type": "code",
   "execution_count": null,
   "metadata": {
    "ExecuteTime": {
     "end_time": "2020-10-25T06:46:28.816611Z",
     "start_time": "2020-10-25T06:46:28.476543Z"
    }
   },
   "outputs": [],
   "source": [
    "y_test_pred = predict_model(best_model, data=test_data)[['PassengerId','Label']]\n",
    "y_test_pred['Survived']=y_test_pred['Label']\n",
    "y_test_pred.drop('Label',axis=1,inplace=True)\n",
    "print(y_test_pred)\n",
    "y_test_pred.to_csv('../data/my_submission.csv',header=True,index=None,encoding='utf-8')"
   ]
  },
  {
   "cell_type": "code",
   "execution_count": null,
   "metadata": {},
   "outputs": [],
   "source": []
  }
 ],
 "metadata": {
  "author": "me",
  "hide_input": false,
  "kernelspec": {
   "display_name": "Python 3",
   "language": "python",
   "name": "python3"
  },
  "language_info": {
   "codemirror_mode": {
    "name": "ipython",
    "version": 3
   },
   "file_extension": ".py",
   "mimetype": "text/x-python",
   "name": "python",
   "nbconvert_exporter": "python",
   "pygments_lexer": "ipython3",
   "version": "3.6.8"
  },
  "latex_envs": {
   "LaTeX_envs_menu_present": true,
   "autoclose": false,
   "autocomplete": true,
   "bibliofile": "biblio.bib",
   "cite_by": "apalike",
   "current_citInitial": 1,
   "eqLabelWithNumbers": true,
   "eqNumInitial": 1,
   "hotkeys": {
    "equation": "Ctrl-E",
    "itemize": "Ctrl-I"
   },
   "labels_anchors": false,
   "latex_user_defs": false,
   "report_style_numbering": false,
   "user_envs_cfg": false
  },
  "toc": {
   "base_numbering": 1,
   "nav_menu": {},
   "number_sections": true,
   "sideBar": true,
   "skip_h1_title": false,
   "title_cell": "Table of Contents",
   "title_sidebar": "Contents",
   "toc_cell": false,
   "toc_position": {},
   "toc_section_display": true,
   "toc_window_display": false
  }
 },
 "nbformat": 4,
 "nbformat_minor": 2
}
