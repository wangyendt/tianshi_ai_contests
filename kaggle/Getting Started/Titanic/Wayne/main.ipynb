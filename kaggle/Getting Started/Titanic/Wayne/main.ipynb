{
 "cells": [
  {
   "cell_type": "code",
   "execution_count": null,
   "metadata": {
    "ExecuteTime": {
     "end_time": "2020-10-10T18:31:30.226556Z",
     "start_time": "2020-10-10T18:31:14.397133Z"
    }
   },
   "outputs": [],
   "source": [
    "#!/usr/bin/env python\n",
    "# encoding: utf-8\n",
    "\n",
    "\"\"\"\n",
    "@author: Wayne\n",
    "@contact: wangye.hope@gmail.com / wang121ye@hotmail.com\n",
    "@software: PyCharm\n",
    "@file: main\n",
    "@time: 2020/09/22 00:14\n",
    "\"\"\"\n",
    "\n",
    "import os\n",
    "import time\n",
    "import handcalcs.render\n",
    "import numpy as np\n",
    "import pandas as pd\n",
    "import pandas_profiling\n",
    "import matplotlib.pyplot as plt\n",
    "import seaborn as sns\n",
    "import plotly.graph_objects as go\n",
    "import plotly.express as px\n",
    "from IPython.display import display\n",
    "from autoviz.AutoViz_Class import AutoViz_Class\n",
    "from sklearn.preprocessing import FunctionTransformer,  OneHotEncoder, MinMaxScaler\n",
    "from sklearn.impute import SimpleImputer\n",
    "from sklearn.decomposition import PCA\n",
    "from sklearn.pipeline import make_pipeline\n",
    "from sklearn.model_selection import train_test_split, GridSearchCV, KFold, cross_val_score\n",
    "from xgboost import XGBClassifier\n",
    "from sklearn.linear_model import LogisticRegression\n",
    "from pycaret.classification import *\n",
    "from pycaret.datasets import get_data"
   ]
  },
  {
   "cell_type": "code",
   "execution_count": null,
   "metadata": {
    "ExecuteTime": {
     "end_time": "2020-10-10T18:31:33.775954Z",
     "start_time": "2020-10-10T18:31:33.756604Z"
    }
   },
   "outputs": [],
   "source": [
    "def load_data(name='test'):\n",
    "    path = os.path.join('../data', name + '.csv')\n",
    "    data = pd.read_csv(path)\n",
    "    return data"
   ]
  },
  {
   "cell_type": "code",
   "execution_count": null,
   "metadata": {
    "ExecuteTime": {
     "end_time": "2020-10-10T18:31:34.903790Z",
     "start_time": "2020-10-10T18:31:34.874261Z"
    }
   },
   "outputs": [],
   "source": [
    "train_data = load_data('train')\n",
    "test_data = load_data('test')\n",
    "df_all = train_data.append(test_data, ignore_index=True)"
   ]
  },
  {
   "cell_type": "code",
   "execution_count": null,
   "metadata": {
    "ExecuteTime": {
     "end_time": "2020-10-10T18:31:35.207568Z",
     "start_time": "2020-10-10T18:31:35.180204Z"
    }
   },
   "outputs": [],
   "source": [
    "display(df_all.head(4))"
   ]
  },
  {
   "cell_type": "code",
   "execution_count": null,
   "metadata": {
    "ExecuteTime": {
     "end_time": "2020-10-10T18:31:35.870299Z",
     "start_time": "2020-10-10T18:31:35.692499Z"
    }
   },
   "outputs": [],
   "source": [
    "display(df_all.describe())"
   ]
  },
  {
   "cell_type": "code",
   "execution_count": null,
   "metadata": {
    "ExecuteTime": {
     "end_time": "2020-10-10T18:31:36.389545Z",
     "start_time": "2020-10-10T18:31:36.366796Z"
    }
   },
   "outputs": [],
   "source": [
    "display(df_all.info())"
   ]
  },
  {
   "cell_type": "code",
   "execution_count": null,
   "metadata": {
    "ExecuteTime": {
     "end_time": "2020-10-10T18:31:37.233028Z",
     "start_time": "2020-10-10T18:31:36.878165Z"
    }
   },
   "outputs": [],
   "source": [
    "sns.heatmap(df_all.isnull())\n",
    "plt.show()"
   ]
  },
  {
   "cell_type": "code",
   "execution_count": null,
   "metadata": {
    "ExecuteTime": {
     "end_time": "2020-10-10T18:31:37.316893Z",
     "start_time": "2020-10-10T18:31:37.305737Z"
    },
    "scrolled": true
   },
   "outputs": [],
   "source": [
    "print(df_all.columns)"
   ]
  },
  {
   "cell_type": "code",
   "execution_count": null,
   "metadata": {
    "ExecuteTime": {
     "end_time": "2020-10-10T18:31:38.486618Z",
     "start_time": "2020-10-10T18:31:37.753399Z"
    },
    "scrolled": true
   },
   "outputs": [],
   "source": [
    "sns.distplot(df_all['Age'], color='black')\n",
    "plt.show()\n",
    "age_cat = pd.cut(df_all['Age'], bins=[0, 10, 20, 30, 40, 50, 60, 70, 80], labels=[\n",
    "                 '0-10', '10-20', '20-30', '30-40', '40-50', '50-60', '60-70', '70-80'])\n",
    "fig, axes = plt.subplots(1, 2, figsize=(10, 6))\n",
    "sns.countplot(age_cat[df_all['Sex'] == 'female'], color='black', ax=axes[0])\n",
    "sns.countplot(age_cat[(df_all['Survived'] == 1) & (\n",
    "    df_all['Sex'] == 'female')], color='pink', ax=axes[0]).set_title('Female')\n",
    "sns.countplot(age_cat[df_all['Sex'] == 'male'], color='black', ax=axes[1])\n",
    "sns.countplot(age_cat[(df_all['Survived'] == 1) & (\n",
    "    df_all['Sex'] == 'male')], color='blue', ax=axes[1]).set_title('Male')\n",
    "plt.show()"
   ]
  },
  {
   "cell_type": "code",
   "execution_count": null,
   "metadata": {
    "ExecuteTime": {
     "end_time": "2020-10-10T18:31:38.870077Z",
     "start_time": "2020-10-10T18:31:38.562584Z"
    }
   },
   "outputs": [],
   "source": [
    "sns.countplot(df_all['Pclass'])\n",
    "plt.show()"
   ]
  },
  {
   "cell_type": "code",
   "execution_count": null,
   "metadata": {
    "ExecuteTime": {
     "end_time": "2020-10-10T18:31:39.640156Z",
     "start_time": "2020-10-10T18:31:39.402002Z"
    }
   },
   "outputs": [],
   "source": [
    "grouped = df_all.groupby(['Sex', 'Pclass'])\n",
    "# display(grouped['Age'].median())\n",
    "ax = grouped['Age'].median().plot(kind='bar', color='black')\n",
    "ax.set(ylabel='Median Age')\n",
    "plt.show()"
   ]
  },
  {
   "cell_type": "code",
   "execution_count": null,
   "metadata": {
    "ExecuteTime": {
     "end_time": "2020-10-10T18:31:40.270376Z",
     "start_time": "2020-10-10T18:31:40.232905Z"
    }
   },
   "outputs": [],
   "source": [
    "df_all.drop('PassengerId', axis=1, inplace=True)\n",
    "df_all.drop('Ticket', axis=1, inplace=True)\n",
    "df_all.drop('Name', axis=1, inplace=True)\n",
    "df_all.loc[df_all['Cabin'].isnull(), 'Cabin'] = 0\n",
    "df_all.loc[df_all['Cabin'] != 0, 'Cabin'] = 1\n",
    "df_all['Embarked'].fillna(\n",
    "    df_all['Embarked'].value_counts().index[0], inplace=True)\n",
    "df_all['Fare'].fillna(df_all['Fare'].median(), inplace=True)\n",
    "df_all['Age'] = grouped['Age'].apply(lambda x: x.fillna(x.median()))\n",
    "df_all['Sex'] = df_all['Sex'].map({'male': 0, 'female': 1})\n",
    "df_all = pd.get_dummies(df_all, columns=['Embarked'])"
   ]
  },
  {
   "cell_type": "code",
   "execution_count": null,
   "metadata": {
    "ExecuteTime": {
     "end_time": "2020-10-10T18:31:55.186504Z",
     "start_time": "2020-10-10T18:31:40.861730Z"
    },
    "scrolled": true
   },
   "outputs": [],
   "source": [
    "display(df_all.head(4))\n",
    "report = pandas_profiling.ProfileReport(df_all)\n",
    "display(report)"
   ]
  },
  {
   "cell_type": "code",
   "execution_count": null,
   "metadata": {
    "ExecuteTime": {
     "end_time": "2020-10-10T18:32:04.206004Z",
     "start_time": "2020-10-10T18:31:55.189353Z"
    }
   },
   "outputs": [],
   "source": [
    "AV = AutoViz_Class()\n",
    "report_av = AV.AutoViz('../data/train.csv')"
   ]
  },
  {
   "cell_type": "code",
   "execution_count": null,
   "metadata": {
    "ExecuteTime": {
     "end_time": "2020-10-10T18:32:04.261456Z",
     "start_time": "2020-10-10T18:32:04.209501Z"
    }
   },
   "outputs": [],
   "source": [
    "scaler = MinMaxScaler()\n",
    "X = df_all.drop('Survived', axis=1).iloc[:891].values\n",
    "y = (df_all['Survived'].iloc[:891].values).astype(int)\n",
    "X = scaler.fit_transform(X)\n",
    "X_test = df_all.drop('Survived', axis=1).iloc[891:].values\n",
    "X_test = scaler.transform(X_test)\n",
    "y_test = (df_all['Survived'].iloc[891:].values).astype(int)"
   ]
  },
  {
   "cell_type": "markdown",
   "metadata": {},
   "source": [
    "## Logistic Regression\n",
    "\\begin{equation}\n",
    "P\\left[Y=y\\ \\big|\\ x;\\omega\\right]\\approx\\sigma(\\omega^Tx)\n",
    "\\end{equation}\n",
    "where\n",
    "\\begin{equation}\n",
    "\\sigma(t)=\\frac{1}{1+\\exp^{-t}}\n",
    "\\end{equation}\n",
    "$\\omega$ can be obtained using maximum likelihood estimation, i.e. minimizing the negative log-likelihood:\n",
    "\\begin{equation}\n",
    "J(\\omega) = -\\frac{1}{m}\\sum\\limits_{i=1}^{n}y_i\\log(\\sigma(\\omega^Tx_i))+(1-y_i)\\log(1-\\sigma(\\omega^Tx_i))\n",
    "\\end{equation}"
   ]
  },
  {
   "cell_type": "code",
   "execution_count": null,
   "metadata": {
    "ExecuteTime": {
     "end_time": "2020-10-10T18:32:04.290118Z",
     "start_time": "2020-10-10T18:32:04.275996Z"
    },
    "code_folding": [
     8
    ]
   },
   "outputs": [],
   "source": [
    "def logistic_regression(X, y, alpha=1e-3, num_iter=30, random_state=1):\n",
    "    np.random.seed(random_state)\n",
    "    d, m = X.shape\n",
    "    K = np.max(y)+1  # 0~c-1 => 1~c\n",
    "    w = np.random.randn(d, K)\n",
    "\n",
    "    def softmax(x):\n",
    "        s = np.exp(x)/np.sum(np.exp(x))\n",
    "        return s\n",
    "\n",
    "    def one_hot(y, k):\n",
    "        \"\"\"\n",
    "        y=[0,1,2,1]\n",
    "        k=3\n",
    "        return: \n",
    "        [[1. 0. 0.]\n",
    "         [0. 1. 0.]\n",
    "         [0. 0. 1.]\n",
    "         [0. 1. 0.]]\n",
    "        \"\"\"\n",
    "        y_one_hot = np.eye(k)[y]\n",
    "        return y_one_hot\n",
    "\n",
    "    def h(x, w):\n",
    "        p = softmax(w.T@x)\n",
    "        return p\n",
    "\n",
    "    def cost(pred, y):\n",
    "        c = np.sum(-one_hot(y, K).T*np.log(pred))\n",
    "        return c\n",
    "\n",
    "    def grad(w, x, y):\n",
    "        Y = one_hot(y, K).T\n",
    "        b = h(x, w)-Y\n",
    "        b = np.reshape(b, (-1, 1))\n",
    "        x = x.reshape((-1, 1))\n",
    "        g = x@b.T\n",
    "        return g\n",
    "    for i in range(num_iter):\n",
    "        for j in np.random.permutation(m):\n",
    "            gradient = grad(w, X[:, j], y[j])\n",
    "            w -= alpha*gradient\n",
    "    return w"
   ]
  },
  {
   "cell_type": "markdown",
   "metadata": {},
   "source": [
    "## Least Square Ridge Classifier\n",
    "$X\\in R^{m\\times d},Y\\in R^{m\\times K}$\n",
    "#### closed form solution\n",
    "\\begin{equation}\n",
    "\\begin{aligned}\n",
    "J(\\omega) &= \\|X\\omega-Y\\|_2^2+\\lambda\\|\\omega\\|_F^2 \\\\\n",
    "&=(X\\omega-Y)^T\\cdot(X\\omega-Y)+\\lambda\\omega^T\\omega \\\\\n",
    "&=(\\omega^TX^T-Y^T)\\cdot(X\\omega-Y)+\\lambda\\omega^T\\omega \\\\\n",
    "&=\\omega^TX^TX\\omega-\\omega^TX^TY-Y^TX\\omega+Y^TY+\\lambda\\omega^T\\omega\n",
    "\\end{aligned}\n",
    "\\end{equation}\n",
    "To minimize: $\\frac{\\partial J}{\\partial\\omega}=0$\n",
    "\\begin{equation}\n",
    "\\begin{aligned}\n",
    "&\\frac{\\partial J}{\\partial\\omega}=2X^TX\\omega-2X^TY+2\\lambda\\omega=0 \\\\\n",
    "\\implies & 2(X^TX+\\lambda I)\\omega=2X^TY \\\\\n",
    "\\implies & \\omega=(X^TX+\\lambda I)^{-1}X^TY\n",
    "\\end{aligned}\n",
    "\\end{equation}"
   ]
  },
  {
   "cell_type": "code",
   "execution_count": null,
   "metadata": {
    "ExecuteTime": {
     "end_time": "2020-10-10T18:32:04.309081Z",
     "start_time": "2020-10-10T18:32:04.294612Z"
    }
   },
   "outputs": [],
   "source": [
    "def ridge_classifier(X, y, lambd=1e-4):\n",
    "    d, m = X.shape\n",
    "    k = np.max(y)+1\n",
    "    w = np.linalg.inv(X@X.T+lambd*np.eye(d))@X@np.eye(k)[y]\n",
    "    return w"
   ]
  },
  {
   "cell_type": "code",
   "execution_count": null,
   "metadata": {
    "ExecuteTime": {
     "end_time": "2020-10-10T18:32:04.338080Z",
     "start_time": "2020-10-10T18:32:04.324993Z"
    }
   },
   "outputs": [],
   "source": [
    "def error(X, y, w):\n",
    "    m = np.shape(y)\n",
    "    y_pred = w.T @ X\n",
    "    y_pred = np.argmax(y_pred, axis=0)\n",
    "    err = np.sum(y_pred == y) / m\n",
    "    return err"
   ]
  },
  {
   "cell_type": "code",
   "execution_count": null,
   "metadata": {
    "ExecuteTime": {
     "end_time": "2020-10-10T18:32:46.891791Z",
     "start_time": "2020-10-10T18:32:04.342149Z"
    },
    "scrolled": false
   },
   "outputs": [],
   "source": [
    "scores_lr = []\n",
    "scores_ls = []\n",
    "fold = 1\n",
    "\n",
    "for tr, val in KFold(n_splits=5, random_state=42).split(X, y):\n",
    "    X_train = X[tr]\n",
    "    X_val = X[val]\n",
    "    y_train = y[tr]\n",
    "    y_val = y[val]\n",
    "    best_W_LR = logistic_regression(\n",
    "        X_train.T, y_train, alpha=1e-3, num_iter=300, random_state=42)\n",
    "    val_acc_LR = error(X_val.T, y_val, best_W_LR)\n",
    "    scores_lr.append(val_acc_LR)\n",
    "    print(f'Validation acc LR: Fold {fold}:', val_acc_LR)\n",
    "    W_LS = ridge_classifier(X_train.T, y_train, lambd=1e-4)\n",
    "    val_acc_LS = error(X_val.T, y_val, W_LS)\n",
    "    scores_ls.append(val_acc_LS)\n",
    "    print(f'Validation acc LS: Fold {fold}:', val_acc_LS)\n",
    "    fold += 1\n",
    "\n",
    "print('-------------------------------')\n",
    "print(\"Accuracy Logistic Regression: %0.2f (+/- %0.2f)\" %\n",
    "      (np.mean(scores_lr), np.std(scores_lr) * 2))\n",
    "print(\"Accuracy Least Squares Ridge: %0.2f (+/- %0.2f)\" %\n",
    "      (np.mean(scores_ls), np.std(scores_ls) * 2))"
   ]
  },
  {
   "cell_type": "code",
   "execution_count": null,
   "metadata": {
    "ExecuteTime": {
     "end_time": "2020-10-10T18:32:46.901956Z",
     "start_time": "2020-10-10T18:32:46.896035Z"
    }
   },
   "outputs": [],
   "source": [
    "def test_clfs(clfs):\n",
    "    for clf in clfs:\n",
    "        start = time()\n",
    "        clf = clf(random_state=0)\n",
    "        scores = cross_val_score(clf, X, y, cv=5)\n",
    "        print(str(clf), 'results:')\n",
    "        print('Accuracy')"
   ]
  },
  {
   "cell_type": "code",
   "execution_count": null,
   "metadata": {
    "ExecuteTime": {
     "end_time": "2020-10-10T18:34:40.497033Z",
     "start_time": "2020-10-10T18:34:08.126858Z"
    }
   },
   "outputs": [],
   "source": [
    "data = train_data.drop('Name',axis=1).drop('Ticket',axis=1).drop('PassengerId',axis=1)\n",
    "clf = setup(data=data,target='Survived')\n",
    "top3 = compare_models(n_select=3,exclude=['catboost'])"
   ]
  },
  {
   "cell_type": "code",
   "execution_count": null,
   "metadata": {
    "ExecuteTime": {
     "end_time": "2020-10-10T18:38:29.479614Z",
     "start_time": "2020-10-10T18:38:18.137043Z"
    },
    "scrolled": false
   },
   "outputs": [],
   "source": [
    "tuned_top3 = [tune_model(i) for i in top3]"
   ]
  },
  {
   "cell_type": "code",
   "execution_count": null,
   "metadata": {
    "ExecuteTime": {
     "end_time": "2020-10-10T18:38:43.533630Z",
     "start_time": "2020-10-10T18:38:29.483242Z"
    },
    "scrolled": false
   },
   "outputs": [],
   "source": [
    "bagged_tuned_top3 = [ensemble_model(i, method = 'Bagging') for i in tuned_top3]"
   ]
  },
  {
   "cell_type": "code",
   "execution_count": null,
   "metadata": {
    "ExecuteTime": {
     "end_time": "2020-10-10T18:38:47.539128Z",
     "start_time": "2020-10-10T18:38:43.537278Z"
    },
    "scrolled": true
   },
   "outputs": [],
   "source": [
    "blender = blend_models(estimator_list = top3)"
   ]
  },
  {
   "cell_type": "code",
   "execution_count": null,
   "metadata": {
    "ExecuteTime": {
     "end_time": "2020-10-10T18:38:59.029500Z",
     "start_time": "2020-10-10T18:38:47.541753Z"
    },
    "scrolled": true
   },
   "outputs": [],
   "source": [
    "stacker = stack_models(estimator_list = top3[1:], meta_model = top3[0])"
   ]
  },
  {
   "cell_type": "code",
   "execution_count": null,
   "metadata": {
    "ExecuteTime": {
     "end_time": "2020-10-10T18:39:01.775187Z",
     "start_time": "2020-10-10T18:38:59.034125Z"
    }
   },
   "outputs": [],
   "source": [
    "best_model = automl(optimize = 'Accuracy')"
   ]
  },
  {
   "cell_type": "code",
   "execution_count": null,
   "metadata": {
    "ExecuteTime": {
     "end_time": "2020-10-10T18:39:01.845673Z",
     "start_time": "2020-10-10T18:39:01.779561Z"
    }
   },
   "outputs": [],
   "source": [
    "save_model(best_model, 'model')"
   ]
  },
  {
   "cell_type": "code",
   "execution_count": null,
   "metadata": {
    "ExecuteTime": {
     "end_time": "2020-10-10T18:39:04.929799Z",
     "start_time": "2020-10-10T18:39:01.881367Z"
    },
    "scrolled": true
   },
   "outputs": [],
   "source": [
    "plot_model(best_model,plot='boundary')"
   ]
  },
  {
   "cell_type": "code",
   "execution_count": null,
   "metadata": {
    "ExecuteTime": {
     "end_time": "2020-10-10T18:39:05.097217Z",
     "start_time": "2020-10-10T18:39:04.933711Z"
    },
    "scrolled": true
   },
   "outputs": [],
   "source": [
    "evaluate_model(best_model)"
   ]
  },
  {
   "cell_type": "code",
   "execution_count": null,
   "metadata": {
    "ExecuteTime": {
     "end_time": "2020-10-10T18:39:05.265652Z",
     "start_time": "2020-10-10T18:39:05.102437Z"
    }
   },
   "outputs": [],
   "source": [
    "predict_model(best_model)"
   ]
  },
  {
   "cell_type": "code",
   "execution_count": null,
   "metadata": {
    "ExecuteTime": {
     "end_time": "2020-10-10T18:39:07.458135Z",
     "start_time": "2020-10-10T18:39:05.268858Z"
    }
   },
   "outputs": [],
   "source": [
    "model = finalize_model(best_model)"
   ]
  },
  {
   "cell_type": "code",
   "execution_count": null,
   "metadata": {
    "ExecuteTime": {
     "end_time": "2020-10-10T18:39:07.635915Z",
     "start_time": "2020-10-10T18:39:07.460845Z"
    }
   },
   "outputs": [],
   "source": [
    "y_test_pred = predict_model(best_model, data=test_data)[['PassengerId','Label']]\n",
    "y_test_pred['Survived']=y_test_pred['Label']\n",
    "y_test_pred.drop('Label',axis=1,inplace=True)\n",
    "print(y_test_pred)\n",
    "y_test_pred.to_csv('../data/my_submission.csv',header=True,index=None,encoding='utf-8')"
   ]
  },
  {
   "cell_type": "code",
   "execution_count": null,
   "metadata": {},
   "outputs": [],
   "source": []
  }
 ],
 "metadata": {
  "author": "me",
  "hide_input": false,
  "kernelspec": {
   "display_name": "Python 3",
   "language": "python",
   "name": "python3"
  },
  "language_info": {
   "codemirror_mode": {
    "name": "ipython",
    "version": 3
   },
   "file_extension": ".py",
   "mimetype": "text/x-python",
   "name": "python",
   "nbconvert_exporter": "python",
   "pygments_lexer": "ipython3",
   "version": "3.6.8"
  },
  "latex_envs": {
   "LaTeX_envs_menu_present": true,
   "autoclose": false,
   "autocomplete": true,
   "bibliofile": "biblio.bib",
   "cite_by": "apalike",
   "current_citInitial": 1,
   "eqLabelWithNumbers": true,
   "eqNumInitial": 1,
   "hotkeys": {
    "equation": "Ctrl-E",
    "itemize": "Ctrl-I"
   },
   "labels_anchors": false,
   "latex_user_defs": false,
   "report_style_numbering": false,
   "user_envs_cfg": false
  },
  "toc": {
   "base_numbering": 1,
   "nav_menu": {},
   "number_sections": true,
   "sideBar": true,
   "skip_h1_title": false,
   "title_cell": "Table of Contents",
   "title_sidebar": "Contents",
   "toc_cell": false,
   "toc_position": {},
   "toc_section_display": true,
   "toc_window_display": false
  }
 },
 "nbformat": 4,
 "nbformat_minor": 2
}
